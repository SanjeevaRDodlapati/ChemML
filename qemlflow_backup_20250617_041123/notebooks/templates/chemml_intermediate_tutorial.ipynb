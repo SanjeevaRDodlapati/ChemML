{
 "cells": [
  {
   "cell_type": "markdown",
   "metadata": {},
   "source": [
    "# ChemML Intermediate TutorialThis tutorial covers intermediate ChemML features including:- Advanced molecular descriptors- Deep learning models- Experiment tracking with Weights & Biases- Cross-validation and model selection- Feature importance analysis"
   ]
  },
  {
   "cell_type": "code",
   "execution_count": null,
   "metadata": {},
   "outputs": [],
   "source": [
    "# ChemML Setupimport sysimport warningswarnings.filterwarnings('ignore')# Core ChemML importsimport chemmlfrom chemml.preprocessing import MoleculePreprocessorfrom chemml.models import ChemMLModelfrom chemml.visualization import ChemMLVisualizer# Optional integrations (with graceful fallbacks)try:    from chemml.integrations.experiment_tracking import setup_wandb_tracking    HAS_TRACKING = Trueexcept ImportError:    HAS_TRACKING = False    print(\"⚠️  Experiment tracking not available\")# Display ChemML infoprint(f\"🧪 ChemML {chemml.__version__} loaded successfully!\")if HAS_TRACKING:    print(\"📊 Experiment tracking available\")"
   ]
  },
  {
   "cell_type": "markdown",
   "metadata": {},
   "source": [
    "## Experiment Tracking Setup"
   ]
  },
  {
   "cell_type": "code",
   "execution_count": null,
   "metadata": {},
   "outputs": [],
   "source": [
    "# Setup experiment trackingif HAS_TRACKING:    experiment = setup_wandb_tracking(        \"intermediate_tutorial\",        project=\"chemml-tutorials\",        tags=[\"intermediate\", \"molecular-modeling\"]    )    print(\"📊 Experiment tracking initialized\")else:    print(\"📝 Running without experiment tracking\")"
   ]
  },
  {
   "cell_type": "markdown",
   "metadata": {},
   "source": [
    "## Advanced Molecular Descriptors"
   ]
  },
  {
   "cell_type": "code",
   "execution_count": null,
   "metadata": {},
   "outputs": [],
   "source": [
    "# Use advanced molecular descriptorsfrom chemml.preprocessing import AdvancedMoleculePreprocessoradvanced_preprocessor = AdvancedMoleculePreprocessor(    descriptor_types=[\"morgan\", \"rdkit\", \"3d\"],    include_3d=True)try:    advanced_features = advanced_preprocessor.fit_transform(data[\"molecules\"])    print(f\"✅ Generated {advanced_features.shape[1]} advanced features\")        # Log to experiment tracker    if HAS_TRACKING:        experiment.log({\"n_features\": advanced_features.shape[1]})        except Exception as e:    print(f\"❌ Advanced preprocessing failed: {e}\")    print(\"💡 Falling back to basic features\")    advanced_features = processed_data"
   ]
  }
 ],
 "metadata": {
  "chemml": {
   "created": "2025-06-15T23:50:24.993963",
   "level": "intermediate",
   "template_version": "1.0"
  },
  "kernelspec": {
   "display_name": "Python 3",
   "language": "python",
   "name": "python3"
  },
  "language_info": {
   "name": "python",
   "version": "3.11.0"
  }
 },
 "nbformat": 4,
 "nbformat_minor": 4
}
