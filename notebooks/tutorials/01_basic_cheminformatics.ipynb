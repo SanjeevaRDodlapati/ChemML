{
 "cells": [
  {
   "cell_type": "markdown",
   "id": "e716132d",
   "metadata": {},
   "source": [
    "# Basic Cheminformatics with RDKit\n",
    "\n",
    "This notebook demonstrates fundamental cheminformatics operations using RDKit.\n",
    "\n",
    "## Learning Objectives\n",
    "- Load and manipulate molecular structures\n",
    "- Calculate molecular descriptors\n",
    "- Visualize molecules\n",
    "- Perform basic chemical transformations"
   ]
  },
  {
   "cell_type": "code",
   "execution_count": null,
   "id": "b435cb29",
   "metadata": {},
   "outputs": [],
   "source": [
    "# Import required libraries\n",
    "import rdkit\n",
    "from rdkit import Chem\n",
    "from rdkit.Chem import Descriptors, Draw, rdMolDescriptors\n",
    "from rdkit.Chem.Draw import IPythonConsole\n",
    "import pandas as pd\n",
    "import numpy as np\n",
    "import matplotlib.pyplot as plt\n",
    "import seaborn as sns\n",
    "\n",
    "print(f\"RDKit version: {rdkit.__version__}\")"
   ]
  },
  {
   "cell_type": "markdown",
   "id": "19f88324",
   "metadata": {},
   "source": [
    "## 1. Creating and Working with Molecules"
   ]
  },
  {
   "cell_type": "code",
   "execution_count": null,
   "id": "4f076948",
   "metadata": {},
   "outputs": [],
   "source": [
    "# Create molecules from SMILES strings\n",
    "smiles_list = [\n",
    "    'CCO',  # Ethanol\n",
    "    'CC(=O)O',  # Acetic acid\n",
    "    'CC(C)C',  # Isobutane\n",
    "    'c1ccccc1',  # Benzene\n",
    "    'CC(=O)Nc1ccc(O)cc1',  # Paracetamol\n",
    "    'CC(C)CC1=CC=C(C=C1)C(C)C(=O)O'  # Ibuprofen\n",
    "]\n",
    "\n",
    "molecules = []\n",
    "for smiles in smiles_list:\n",
    "    mol = Chem.MolFromSmiles(smiles)\n",
    "    if mol is not None:\n",
    "        molecules.append(mol)\n",
    "        print(f\"Created molecule from SMILES: {smiles}\")\n",
    "    else:\n",
    "        print(f\"Failed to create molecule from SMILES: {smiles}\")\n",
    "\n",
    "print(f\"\\nTotal molecules created: {len(molecules)}\")"
   ]
  },
  {
   "cell_type": "markdown",
   "id": "2438d293",
   "metadata": {},
   "source": [
    "## 2. Molecular Descriptors"
   ]
  },
  {
   "cell_type": "code",
   "execution_count": null,
   "id": "4961990b",
   "metadata": {},
   "outputs": [],
   "source": [
    "# Calculate molecular descriptors\n",
    "def calculate_descriptors(molecules, smiles_list):\n",
    "    data = []\n",
    "    \n",
    "    for i, mol in enumerate(molecules):\n",
    "        if mol is not None:\n",
    "            descriptors = {\n",
    "                'SMILES': smiles_list[i],\n",
    "                'Molecular_Weight': Descriptors.MolWt(mol),\n",
    "                'LogP': Descriptors.MolLogP(mol),\n",
    "                'HBD': Descriptors.NumHDonors(mol),  # Hydrogen bond donors\n",
    "                'HBA': Descriptors.NumHAcceptors(mol),  # Hydrogen bond acceptors\n",
    "                'TPSA': Descriptors.TPSA(mol),  # Topological polar surface area\n",
    "                'Rotatable_Bonds': Descriptors.NumRotatableBonds(mol),\n",
    "                'Aromatic_Rings': Descriptors.NumAromaticRings(mol)\n",
    "            }\n",
    "            data.append(descriptors)\n",
    "    \n",
    "    return pd.DataFrame(data)\n",
    "\n",
    "df_descriptors = calculate_descriptors(molecules, smiles_list)\n",
    "print(\"Molecular Descriptors:\")\n",
    "print(df_descriptors.round(2))"
   ]
  },
  {
   "cell_type": "markdown",
   "id": "678351ca",
   "metadata": {},
   "source": [
    "## 3. Lipinski's Rule of Five Analysis"
   ]
  },
  {
   "cell_type": "code",
   "execution_count": null,
   "id": "e0716c70",
   "metadata": {},
   "outputs": [],
   "source": [
    "# Check Lipinski's Rule of Five\n",
    "def lipinski_filter(df):\n",
    "    df['Lipinski_Violations'] = 0\n",
    "    \n",
    "    # Rule 1: Molecular weight <= 500 Da\n",
    "    df.loc[df['Molecular_Weight'] > 500, 'Lipinski_Violations'] += 1\n",
    "    \n",
    "    # Rule 2: LogP <= 5\n",
    "    df.loc[df['LogP'] > 5, 'Lipinski_Violations'] += 1\n",
    "    \n",
    "    # Rule 3: Hydrogen bond donors <= 5\n",
    "    df.loc[df['HBD'] > 5, 'Lipinski_Violations'] += 1\n",
    "    \n",
    "    # Rule 4: Hydrogen bond acceptors <= 10\n",
    "    df.loc[df['HBA'] > 10, 'Lipinski_Violations'] += 1\n",
    "    \n",
    "    df['Drug_Like'] = df['Lipinski_Violations'] <= 1\n",
    "    \n",
    "    return df\n",
    "\n",
    "df_descriptors = lipinski_filter(df_descriptors)\n",
    "print(\"\\nLipinski's Rule of Five Analysis:\")\n",
    "print(df_descriptors[['SMILES', 'Lipinski_Violations', 'Drug_Like']])"
   ]
  },
  {
   "cell_type": "markdown",
   "id": "f1259725",
   "metadata": {},
   "source": [
    "## Exercise\n",
    "\n",
    "Try the following:\n",
    "1. Add more drug molecules to the analysis\n",
    "2. Calculate additional descriptors using `Descriptors` module\n",
    "3. Implement other drug-likeness rules (e.g., Veber's rules)\n",
    "4. Create molecular fingerprints for similarity analysis"
   ]
  },
  {
   "cell_type": "markdown",
   "id": "90c3a7a1",
   "metadata": {},
   "source": [
    "## 🚀 ChemML Hybrid Integration Demo\n",
    "\n",
    "This section demonstrates ChemML's **hybrid architecture** that combines:\n",
    "- **Standard libraries** (RDKit, DeepChem) for maximum compatibility\n",
    "- **Custom implementations** for advanced features and modern APIs\n",
    "- **Legacy modules** for production-ready functionality\n",
    "\n",
    "### Why Hybrid Approach?\n",
    "- ✅ **Best of both worlds**: Flexibility + Robustness\n",
    "- ✅ **Future-proof**: Modern APIs without deprecation warnings\n",
    "- ✅ **Production-ready**: Battle-tested legacy functionality\n",
    "- ✅ **Educational**: Clear progression from basics to advanced"
   ]
  },
  {
   "cell_type": "code",
   "execution_count": null,
   "id": "6e817d4b",
   "metadata": {},
   "outputs": [],
   "source": [
    "# ChemML Hybrid Architecture Demo\n",
    "print(\"🧬 ChemML Hybrid Architecture Demonstration\")\n",
    "print(\"=\" * 50)\n",
    "\n",
    "# 1. Standard approach (what we've been doing)\n",
    "print(\"\\n📚 1. STANDARD APPROACH (RDKit directly)\")\n",
    "from rdkit import Chem\n",
    "from rdkit.Chem import Descriptors\n",
    "\n",
    "mol = Chem.MolFromSmiles('CCO')\n",
    "mw = Descriptors.MolWt(mol)\n",
    "print(f\"   Molecular weight: {mw:.2f}\")\n",
    "\n",
    "# 2. ChemML modern featurizers (new architecture)\n",
    "print(\"\\n🆕 2. CHEMML MODERN FEATURIZERS\")\n",
    "try:\n",
    "    from chemml.core.featurizers import MorganFingerprint, DescriptorCalculator\n",
    "    \n",
    "    # Modern Morgan fingerprints (no deprecation warnings)\n",
    "    morgan = MorganFingerprint(radius=2, n_bits=1024)\n",
    "    features = morgan.featurize([mol])\n",
    "    print(f\"   Morgan fingerprint shape: {features.shape}\")\n",
    "    \n",
    "    # Modern descriptor calculator\n",
    "    desc_calc = DescriptorCalculator()\n",
    "    descriptors = desc_calc.featurize([mol])\n",
    "    print(f\"   Descriptors shape: {descriptors.shape}\")\n",
    "    \n",
    "except ImportError:\n",
    "    print(\"   ChemML featurizers not available\")\n",
    "\n",
    "# 3. Legacy module integration (production-ready functionality)\n",
    "print(\"\\n🔧 3. LEGACY MODULE INTEGRATION\")\n",
    "try:\n",
    "    from chemml.core.data import legacy_molecular_cleaning, enhanced_property_prediction\n",
    "    import pandas as pd\n",
    "    \n",
    "    # Test data cleaning\n",
    "    test_data = pd.DataFrame({\n",
    "        'smiles': ['CCO', 'CC(C)O', 'invalid', 'c1ccccc1'],\n",
    "        'activity': [1.2, 2.3, None, 0.8]\n",
    "    })\n",
    "    \n",
    "    cleaned = legacy_molecular_cleaning(test_data)\n",
    "    print(f\"   Data cleaning: {len(test_data)} -> {len(cleaned)} molecules\")\n",
    "    \n",
    "    # Property prediction\n",
    "    predictor = enhanced_property_prediction()\n",
    "    if predictor:\n",
    "        print(\"   ✅ Property predictor available\")\n",
    "    \n",
    "except ImportError:\n",
    "    print(\"   Legacy integration not available\")\n",
    "\n",
    "print(\"\\n🎯 INTEGRATION COMPLETE!\")\n",
    "print(\"✅ All three approaches work together seamlessly!\")"
   ]
  }
 ],
 "metadata": {
  "kernelspec": {
   "display_name": "chemml_env",
   "language": "python",
   "name": "python3"
  },
  "language_info": {
   "codemirror_mode": {
    "name": "ipython",
    "version": 3
   },
   "file_extension": ".py",
   "mimetype": "text/x-python",
   "name": "python",
   "nbconvert_exporter": "python",
   "pygments_lexer": "ipython3",
   "version": "3.11.6"
  }
 },
 "nbformat": 4,
 "nbformat_minor": 5
}
