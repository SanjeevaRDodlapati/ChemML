{
 "cells": [
  {
   "cell_type": "markdown",
   "id": "6b8ea7b3",
   "metadata": {},
   "source": [
    "# Quantum Computing for Molecular Systems\n",
    "\n",
    "This notebook introduces quantum computing concepts for molecular modeling and drug discovery.\n",
    "\n",
    "## Learning Objectives\n",
    "- Understand basic quantum computing concepts\n",
    "- Learn to use Qiskit and PennyLane\n",
    "- Explore quantum algorithms for molecular problems\n",
    "- Implement variational quantum eigensolvers (VQE)"
   ]
  },
  {
   "cell_type": "code",
   "execution_count": null,
   "id": "1ed432e1",
   "metadata": {},
   "outputs": [],
   "source": [
    "# Import quantum computing libraries\n",
    "import numpy as np\n",
    "import matplotlib.pyplot as plt\n",
    "\n",
    "# Qiskit imports\n",
    "from qiskit import QuantumCircuit, transpile\n",
    "from qiskit.primitives import Estimator\n",
    "from qiskit.quantum_info import SparsePauliOp\n",
    "from qiskit_aer import AerSimulator\n",
    "\n",
    "# PennyLane imports\n",
    "import pennylane as qml\n",
    "from pennylane import numpy as pnp\n",
    "\n",
    "print(\"Quantum computing libraries loaded successfully!\")"
   ]
  },
  {
   "cell_type": "markdown",
   "id": "21fe7d77",
   "metadata": {},
   "source": [
    "## 1. Basic Quantum Circuit with Qiskit"
   ]
  },
  {
   "cell_type": "code",
   "execution_count": null,
   "id": "6213dffc",
   "metadata": {},
   "outputs": [],
   "source": [
    "# Create a simple quantum circuit\n",
    "def create_bell_state():\n",
    "    \"\"\"\n",
    "    Create a Bell state (quantum entangled state)\n",
    "    \"\"\"\n",
    "    # Create a quantum circuit with 2 qubits and 2 classical bits\n",
    "    qc = QuantumCircuit(2, 2)\n",
    "    \n",
    "    # Apply Hadamard gate to first qubit\n",
    "    qc.h(0)\n",
    "    \n",
    "    # Apply CNOT gate\n",
    "    qc.cx(0, 1)\n",
    "    \n",
    "    # Measure both qubits\n",
    "    qc.measure([0, 1], [0, 1])\n",
    "    \n",
    "    return qc\n",
    "\n",
    "# Create and visualize the circuit\n",
    "bell_circuit = create_bell_state()\n",
    "print(\"Bell State Circuit:\")\n",
    "print(bell_circuit.draw())\n",
    "\n",
    "# Simulate the circuit\n",
    "simulator = AerSimulator()\n",
    "compiled_circuit = transpile(bell_circuit, simulator)\n",
    "job = simulator.run(compiled_circuit, shots=1000)\n",
    "result = job.result()\n",
    "counts = result.get_counts()\n",
    "\n",
    "print(\"\\nMeasurement Results:\")\n",
    "for outcome, count in counts.items():\n",
    "    print(f\"State |{outcome}>: {count} times ({count/1000:.1%})\")"
   ]
  },
  {
   "cell_type": "markdown",
   "id": "4a605096",
   "metadata": {},
   "source": [
    "## 2. Molecular Hamiltonians"
   ]
  },
  {
   "cell_type": "code",
   "execution_count": null,
   "id": "03ef5316",
   "metadata": {},
   "outputs": [],
   "source": [
    "# Define a simple molecular Hamiltonian (H2 molecule)\n",
    "def h2_hamiltonian():\n",
    "    \"\"\"\n",
    "    Create a simplified Hamiltonian for H2 molecule\n",
    "    Using the STO-3G basis set approximation\n",
    "    \"\"\"\n",
    "    # Coefficients for H2 in minimal basis\n",
    "    # These are simplified values for demonstration\n",
    "    coeffs = [-1.0523732, 0.39793742, -0.39793742, -0.01128010]\n",
    "    \n",
    "    # Pauli operators\n",
    "    ops = ['II', 'IZ', 'ZI', 'ZZ']\n",
    "    \n",
    "    # Create the Hamiltonian\n",
    "    hamiltonian = SparsePauliOp.from_list([(op, coeff) for op, coeff in zip(ops, coeffs)])\n",
    "    \n",
    "    return hamiltonian\n",
    "\n",
    "h2_ham = h2_hamiltonian()\n",
    "print(\"H2 Molecule Hamiltonian:\")\n",
    "print(h2_ham)\n",
    "print(f\"\\nNumber of qubits required: {h2_ham.num_qubits}\")"
   ]
  },
  {
   "cell_type": "markdown",
   "id": "ed4b2d81",
   "metadata": {},
   "source": [
    "## 3. Variational Quantum Eigensolver (VQE) with PennyLane"
   ]
  },
  {
   "cell_type": "code",
   "execution_count": null,
   "id": "4ae38b70",
   "metadata": {},
   "outputs": [],
   "source": [
    "# Set up PennyLane device\n",
    "dev = qml.device('default.qubit', wires=2)\n",
    "\n",
    "# Define the ansatz (trial wavefunction)\n",
    "@qml.qnode(dev)\n",
    "def vqe_ansatz(params):\n",
    "    \"\"\"\n",
    "    Simple VQE ansatz for 2 qubits\n",
    "    \"\"\"\n",
    "    # Apply RY rotations\n",
    "    qml.RY(params[0], wires=0)\n",
    "    qml.RY(params[1], wires=1)\n",
    "    \n",
    "    # Apply entangling gate\n",
    "    qml.CNOT(wires=[0, 1])\n",
    "    \n",
    "    # Apply more rotations\n",
    "    qml.RY(params[2], wires=0)\n",
    "    qml.RY(params[3], wires=1)\n",
    "    \n",
    "    return qml.state()\n",
    "\n",
    "# Define cost function (expectation value of Hamiltonian)\n",
    "@qml.qnode(dev)\n",
    "def cost_function(params):\n",
    "    \"\"\"\n",
    "    Calculate expectation value of H2 Hamiltonian\n",
    "    \"\"\"\n",
    "    # Apply the ansatz\n",
    "    qml.RY(params[0], wires=0)\n",
    "    qml.RY(params[1], wires=1)\n",
    "    qml.CNOT(wires=[0, 1])\n",
    "    qml.RY(params[2], wires=0)\n",
    "    qml.RY(params[3], wires=1)\n",
    "    \n",
    "    # Measure expectation values for each Pauli string\n",
    "    h_ii = -1.0523732 * qml.Identity(0) @ qml.Identity(1)\n",
    "    h_iz = 0.39793742 * qml.Identity(0) @ qml.PauliZ(1)\n",
    "    h_zi = -0.39793742 * qml.PauliZ(0) @ qml.Identity(1)\n",
    "    h_zz = -0.01128010 * qml.PauliZ(0) @ qml.PauliZ(1)\n",
    "    \n",
    "    return qml.expval(h_ii + h_iz + h_zi + h_zz)\n",
    "\n",
    "# Initialize parameters\n",
    "np.random.seed(42)\n",
    "params = np.random.uniform(0, 2*np.pi, size=4)\n",
    "\n",
    "print(f\"Initial parameters: {params}\")\n",
    "print(f\"Initial energy: {cost_function(params):.6f} Ha\")"
   ]
  },
  {
   "cell_type": "markdown",
   "id": "e38cc1b1",
   "metadata": {},
   "source": [
    "## 4. Optimization with Classical Optimizer"
   ]
  },
  {
   "cell_type": "code",
   "execution_count": null,
   "id": "e9789f69",
   "metadata": {},
   "outputs": [],
   "source": [
    "# Optimize the VQE parameters\n",
    "from scipy.optimize import minimize\n",
    "\n",
    "# Track optimization progress\n",
    "energy_history = []\n",
    "\n",
    "def callback(params):\n",
    "    energy = cost_function(params)\n",
    "    energy_history.append(energy)\n",
    "    if len(energy_history) % 10 == 0:\n",
    "        print(f\"Step {len(energy_history)}: Energy = {energy:.6f} Ha\")\n",
    "\n",
    "# Run optimization\n",
    "print(\"Starting VQE optimization...\")\n",
    "result = minimize(\n",
    "    cost_function,\n",
    "    params,\n",
    "    method='COBYLA',\n",
    "    callback=callback,\n",
    "    options={'maxiter': 100}\n",
    ")\n",
    "\n",
    "print(f\"\\nOptimization completed!\")\n",
    "print(f\"Final energy: {result.fun:.6f} Ha\")\n",
    "print(f\"Optimal parameters: {result.x}\")\n",
    "\n",
    "# Known exact ground state energy for H2 (reference)\n",
    "exact_energy = -1.136189\n",
    "print(f\"Exact ground state energy: {exact_energy:.6f} Ha\")\n",
    "print(f\"Error: {abs(result.fun - exact_energy):.6f} Ha\")"
   ]
  },
  {
   "cell_type": "markdown",
   "id": "e2efce63",
   "metadata": {},
   "source": [
    "## 5. Visualization of Optimization Progress"
   ]
  },
  {
   "cell_type": "code",
   "execution_count": null,
   "id": "18968ec1",
   "metadata": {},
   "outputs": [],
   "source": [
    "# Plot optimization convergence\n",
    "plt.figure(figsize=(10, 6))\n",
    "plt.plot(energy_history, 'b-', linewidth=2, label='VQE Energy')\n",
    "plt.axhline(y=exact_energy, color='r', linestyle='--', linewidth=2, label='Exact Ground State')\n",
    "plt.xlabel('Optimization Step')\n",
    "plt.ylabel('Energy (Hartree)')\n",
    "plt.title('VQE Optimization for H₂ Molecule')\n",
    "plt.legend()\n",
    "plt.grid(True, alpha=0.3)\n",
    "plt.tight_layout()\n",
    "plt.show()\n",
    "\n",
    "# Calculate final error\n",
    "final_error = abs(energy_history[-1] - exact_energy)\n",
    "print(f\"\\nFinal optimization error: {final_error:.6f} Ha\")\n",
    "print(f\"Final optimization error: {final_error * 27.211:.3f} eV\")  # Convert to eV"
   ]
  },
  {
   "cell_type": "markdown",
   "id": "d84eb5d3",
   "metadata": {},
   "source": [
    "## 6. Quantum Circuit Visualization"
   ]
  },
  {
   "cell_type": "code",
   "execution_count": null,
   "id": "29737c44",
   "metadata": {},
   "outputs": [],
   "source": [
    "# Create and visualize the optimized quantum circuit\n",
    "optimal_params = result.x\n",
    "\n",
    "@qml.qnode(dev)\n",
    "def optimized_circuit(params):\n",
    "    qml.RY(params[0], wires=0)\n",
    "    qml.RY(params[1], wires=1)\n",
    "    qml.CNOT(wires=[0, 1])\n",
    "    qml.RY(params[2], wires=0)\n",
    "    qml.RY(params[3], wires=1)\n",
    "    return qml.state()\n",
    "\n",
    "# Print circuit\n",
    "print(\"Optimized VQE Circuit:\")\n",
    "print(qml.draw(optimized_circuit)(optimal_params))\n",
    "\n",
    "# Get the final quantum state\n",
    "final_state = optimized_circuit(optimal_params)\n",
    "print(f\"\\nFinal quantum state amplitudes:\")\n",
    "for i, amp in enumerate(final_state):\n",
    "    if abs(amp) > 1e-6:\n",
    "        print(f\"|{i:02b}>: {amp:.4f}\")"
   ]
  },
  {
   "cell_type": "markdown",
   "id": "ec730757",
   "metadata": {},
   "source": [
    "## Exercise\n",
    "\n",
    "Try the following:\n",
    "1. Modify the ansatz to include more parameters\n",
    "2. Implement VQE for other small molecules (LiH, BeH₂)\n",
    "3. Compare different optimizers (SPSA, Adam, etc.)\n",
    "4. Explore quantum machine learning for molecular property prediction\n",
    "\n",
    "## Next Steps\n",
    "- Learn about quantum approximate optimization algorithm (QAOA)\n",
    "- Explore quantum machine learning for drug discovery\n",
    "- Study quantum algorithms for molecular dynamics\n",
    "- Investigate near-term quantum advantages in chemistry"
   ]
  }
 ],
 "metadata": {
  "language_info": {
   "name": "python"
  }
 },
 "nbformat": 4,
 "nbformat_minor": 5
}
